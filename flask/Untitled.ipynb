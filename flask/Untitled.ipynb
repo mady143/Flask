{
 "cells": [
  {
   "cell_type": "code",
   "execution_count": 1,
   "metadata": {},
   "outputs": [
    {
     "name": "stdout",
     "output_type": "stream",
     "text": [
      " * Serving Flask app \"__main__\" (lazy loading)\n",
      " * Environment: production\n",
      "   WARNING: Do not use the development server in a production environment.\n",
      "   Use a production WSGI server instead.\n",
      " * Debug mode: on\n"
     ]
    },
    {
     "name": "stderr",
     "output_type": "stream",
     "text": [
      " * Running on http://127.0.0.1:5000/ (Press CTRL+C to quit)\n",
      " * Restarting with stat\n"
     ]
    },
    {
     "ename": "SystemExit",
     "evalue": "1",
     "output_type": "error",
     "traceback": [
      "An exception has occurred, use %tb to see the full traceback.\n",
      "\u001b[0;31mSystemExit\u001b[0m\u001b[0;31m:\u001b[0m 1\n"
     ]
    },
    {
     "name": "stderr",
     "output_type": "stream",
     "text": [
      "/home/manikantha/env/lib/python3.6/site-packages/IPython/core/interactiveshell.py:3304: UserWarning: To exit: use 'exit', 'quit', or Ctrl-D.\n",
      "  warn(\"To exit: use 'exit', 'quit', or Ctrl-D.\", stacklevel=1)\n"
     ]
    }
   ],
   "source": [
    "from flask import Flask, render_template, request\n",
    "import sqlite3 as sql\n",
    "app = Flask(__name__)\n",
    "\n",
    "@app.route('/')\n",
    "def home():\n",
    "   return render_template('home.html')\n",
    "\n",
    "@app.route('/enternew')\n",
    "def new_student():\n",
    "   return render_template('student.html')\n",
    "\n",
    "@app.route('/addrec',methods = ['POST', 'GET'])\n",
    "def addrec():\n",
    "   if request.method == 'POST':\n",
    "      try:\n",
    "         nm = request.form['nm']\n",
    "         addr = request.form['add']\n",
    "         city = request.form['city']\n",
    "         pin = request.form['pin']\n",
    "         \n",
    "         with sql.connect(\"database.db\") as con:\n",
    "            cur = con.cursor()\n",
    "            \n",
    "            cur.execute(\"INSERT INTO students (name,addr,city,pin) VALUES (?,?,?,?)\",(nm,addr,city,pin) )\n",
    "            \n",
    "            con.commit()\n",
    "            msg = \"Record successfully added\"\n",
    "      except:\n",
    "         con.rollback()\n",
    "         msg = \"error in insert operation\"\n",
    "      \n",
    "      finally:\n",
    "         return render_template(\"result.html\",msg = msg)\n",
    "         con.close()\n",
    "\n",
    "@app.route('/list')\n",
    "def list():\n",
    "   con = sql.connect(\"database.db\")\n",
    "   con.row_factory = sql.Row\n",
    "   \n",
    "   cur = con.cursor()\n",
    "   cur.execute(\"select * from students\")\n",
    "   \n",
    "   rows = cur.fetchall();\n",
    "   return render_template(\"list.html\",rows = rows)\n",
    "\n",
    "if __name__ == '__main__':\n",
    "   app.run(debug = True)"
   ]
  },
  {
   "cell_type": "code",
   "execution_count": null,
   "metadata": {},
   "outputs": [],
   "source": []
  }
 ],
 "metadata": {
  "kernelspec": {
   "display_name": "Python 3",
   "language": "python",
   "name": "python3"
  },
  "language_info": {
   "codemirror_mode": {
    "name": "ipython",
    "version": 3
   },
   "file_extension": ".py",
   "mimetype": "text/x-python",
   "name": "python",
   "nbconvert_exporter": "python",
   "pygments_lexer": "ipython3",
   "version": "3.6.7"
  }
 },
 "nbformat": 4,
 "nbformat_minor": 2
}
